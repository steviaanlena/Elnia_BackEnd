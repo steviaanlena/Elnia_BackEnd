{
  "nbformat": 4,
  "nbformat_minor": 0,
  "metadata": {
    "colab": {
      "provenance": []
    },
    "kernelspec": {
      "name": "python3",
      "display_name": "Python 3"
    },
    "language_info": {
      "name": "python"
    }
  },
  "cells": [
    {
      "cell_type": "code",
      "execution_count": 1,
      "metadata": {
        "colab": {
          "base_uri": "https://localhost:8080/"
        },
        "id": "r5VUBL2_P1s9",
        "outputId": "f1c9dcca-bc53-4b11-94fc-3fa9fcbbe3a6"
      },
      "outputs": [
        {
          "output_type": "stream",
          "name": "stdout",
          "text": [
            "Requirement already satisfied: requests in /usr/local/lib/python3.10/dist-packages (2.32.3)\n",
            "Requirement already satisfied: charset-normalizer<4,>=2 in /usr/local/lib/python3.10/dist-packages (from requests) (3.3.2)\n",
            "Requirement already satisfied: idna<4,>=2.5 in /usr/local/lib/python3.10/dist-packages (from requests) (3.10)\n",
            "Requirement already satisfied: urllib3<3,>=1.21.1 in /usr/local/lib/python3.10/dist-packages (from requests) (2.2.3)\n",
            "Requirement already satisfied: certifi>=2017.4.17 in /usr/local/lib/python3.10/dist-packages (from requests) (2024.8.30)\n"
          ]
        }
      ],
      "source": [
        "!pip install requests"
      ]
    },
    {
      "cell_type": "code",
      "source": [
        "import requests\n",
        "import pandas as pd\n",
        "from datetime import datetime, timedelta\n",
        "from bs4 import BeautifulSoup\n",
        "from io import StringIO\n",
        "\n",
        "# Function to fetch temperature data\n",
        "def fetch_temperature_data(latitude, longitude, start_date, end_date):\n",
        "    url = f\"https://api.meteomatics.com/{start_date}T00:00:00Z--{end_date}T00:00:00Z:PT24H/t_2m:C/{latitude},{longitude}/html\"\n",
        "    username = 'elniaco_putri_stevia'\n",
        "    password = 'B3flb8HdY4'\n",
        "    response = requests.get(url, auth=(username, password))\n",
        "\n",
        "    if response.status_code == 200:\n",
        "        return response.text\n",
        "    else:\n",
        "        print(f\"Error: Unable to fetch temperature data for {start_date} to {end_date}. Status Code: {response.status_code}\")\n",
        "        return None\n",
        "\n",
        "# Function to extract temperature array and calculate monthly averages\n",
        "def calculate_monthly_averages(data):\n",
        "    soup = BeautifulSoup(data, 'html.parser')\n",
        "    csv_data = soup.find('pre', id='csv').text.strip()\n",
        "    df = pd.read_csv(StringIO(csv_data), delimiter=';')\n",
        "\n",
        "    # Convert date column to datetime\n",
        "    df['validdate'] = pd.to_datetime(df['validdate'])\n",
        "\n",
        "    # Group by month and calculate average temperature for each month\n",
        "    monthly_avg = df.groupby(df['validdate'].dt.to_period('M'))['t_2m:C'].mean()\n",
        "\n",
        "    # Round monthly averages to 2 decimal places and return the list\n",
        "    return monthly_avg.round(2).tolist()\n",
        "\n",
        "# List of provinces with their latitude and longitude\n",
        "provinces = [\n",
        "    {\"name\": \"Aceh\", \"latitude\": 4.695135, \"longitude\": 96.7493993},\n",
        "    {\"name\": \"Bali\", \"latitude\": -8.4095178, \"longitude\": 115.188916},\n",
        "    {\"name\": \"Banten\", \"latitude\": -6.4058172, \"longitude\": 106.0640179},\n",
        "    {\"name\": \"Bengkulu\", \"latitude\": -3.5778471, \"longitude\": 102.3463875},\n",
        "    {\"name\": \"D.I. Yogyakarta\", \"latitude\": -7.8753849, \"longitude\": 110.4262088},\n",
        "    {\"name\": \"D.K.I. Jakarta\", \"latitude\": -6.211544, \"longitude\": 106.845172},\n",
        "    {\"name\": \"Gorontalo\", \"latitude\": 0.6999372, \"longitude\": 122.4467238},\n",
        "    {\"name\": \"Jambi\", \"latitude\": -1.4851831, \"longitude\": 102.4380581},\n",
        "    {\"name\": \"Jawa Barat\", \"latitude\": -7.090911, \"longitude\": 107.668887},\n",
        "    {\"name\": \"Jawa Tengah\", \"latitude\": -7.150975, \"longitude\": 110.1402594},\n",
        "    {\"name\": \"Jawa Timur\", \"latitude\": -7.5360639, \"longitude\": 112.2384017},\n",
        "    {\"name\": \"Kalimantan Barat\", \"latitude\": -0.2787808, \"longitude\": 111.4752851},\n",
        "    {\"name\": \"Kalimantan Selatan\", \"latitude\": -3.0926415, \"longitude\": 115.2837585},\n",
        "    {\"name\": \"Kalimantan Tengah\", \"latitude\": -1.6814878, \"longitude\": 113.3823545},\n",
        "    {\"name\": \"Kalimantan Timur\", \"latitude\": 0.5387, \"longitude\": 116.419389},\n",
        "    {\"name\": \"Kalimantan Utara\", \"latitude\": 3.0731, \"longitude\": 116.0414},\n",
        "    {\"name\": \"Kepulauan Bangka Belitung\", \"latitude\": -2.7410513, \"longitude\": 106.4405872},\n",
        "    {\"name\": \"Kepulauan Riau\", \"latitude\": 3.9456514, \"longitude\": 108.1428669},\n",
        "    {\"name\": \"Lampung\", \"latitude\": -4.5585849, \"longitude\": 105.4068079},\n",
        "    {\"name\": \"Maluku\", \"latitude\": -3.2384616, \"longitude\": 130.1452734},\n",
        "    {\"name\": \"Maluku Utara\", \"latitude\": 1.5709993, \"longitude\": 127.8087693},\n",
        "    {\"name\": \"Nusa Tenggara Barat\", \"latitude\": -8.6529334, \"longitude\": 117.3616476},\n",
        "    {\"name\": \"Nusa Tenggara Timur\", \"latitude\": -8.6573819, \"longitude\": 121.0793705},\n",
        "    {\"name\": \"Papua\", \"latitude\": -4.269928, \"longitude\": 138.0803529},\n",
        "    {\"name\": \"Papua Barat\", \"latitude\": -1.3361154, \"longitude\": 133.1747162},\n",
        "    {\"name\": \"Riau\", \"latitude\": 0.2933469, \"longitude\": 101.7068294},\n",
        "    {\"name\": \"Sulawesi Barat\", \"latitude\": -2.8441371, \"longitude\": 119.2320784},\n",
        "    {\"name\": \"Sulawesi Selatan\", \"latitude\": -3.6687994, \"longitude\": 119.9740534},\n",
        "    {\"name\": \"Sulawesi Tengah\", \"latitude\": -1.4300254, \"longitude\": 121.4456179},\n",
        "    {\"name\": \"Sulawesi Tenggara\", \"latitude\": -4.14491, \"longitude\": 122.174605},\n",
        "    {\"name\": \"Sulawesi Utara\", \"latitude\": 0.6246932, \"longitude\": 123.9750018},\n",
        "    {\"name\": \"Sumatera Barat\", \"latitude\": -0.7399397, \"longitude\": 100.8000051},\n",
        "    {\"name\": \"Sumatera Selatan\", \"latitude\": -3.3194374, \"longitude\": 103.914399},\n",
        "    {\"name\": \"Sumatera Utara\", \"latitude\": 2.1153547, \"longitude\": 99.5450974}\n",
        "]\n",
        "\n",
        "# Get today's date and end date (6 months from now)\n",
        "today_date = datetime.now().strftime('%Y-%m-%d')\n",
        "end_date = (datetime.now() + timedelta(days=6*30)).strftime('%Y-%m-%d')  # Approximate 6 months\n",
        "\n",
        "# Loop through each province and fetch temperature data\n",
        "for province in provinces:\n",
        "    print(f\"Fetching data for {province['name']}...\")\n",
        "\n",
        "    # Fetch data for the 6-month range\n",
        "    temperature_data = fetch_temperature_data(province['latitude'], province['longitude'], today_date, end_date)\n",
        "\n",
        "    if temperature_data:\n",
        "        monthly_avg_temperatures = calculate_monthly_averages(temperature_data)\n",
        "\n",
        "        # Print results\n",
        "        print(f\"{province['name']} - Monthly Average Temperatures (Rounded): {monthly_avg_temperatures}\")\n",
        "    else:\n",
        "        print(f\"Could not fetch data for {province['name']}.\")\n"
      ],
      "metadata": {
        "colab": {
          "base_uri": "https://localhost:8080/"
        },
        "id": "TDx1h8CQP3DV",
        "outputId": "d41e9aaf-b999-466f-fd76-cae93a228859"
      },
      "execution_count": 2,
      "outputs": [
        {
          "output_type": "stream",
          "name": "stdout",
          "text": [
            "Fetching data for Aceh...\n"
          ]
        },
        {
          "output_type": "stream",
          "name": "stderr",
          "text": [
            "<ipython-input-2-7d65b22cdf74>:30: UserWarning: Converting to PeriodArray/Index representation will drop timezone information.\n",
            "  monthly_avg = df.groupby(df['validdate'].dt.to_period('M'))['t_2m:C'].mean()\n"
          ]
        },
        {
          "output_type": "stream",
          "name": "stdout",
          "text": [
            "Aceh - Monthly Average Temperatures (Rounded): [17.56, 17.63, 17.93, 17.48, 17.31, 17.52, 17.98]\n",
            "Fetching data for Bali...\n"
          ]
        },
        {
          "output_type": "stream",
          "name": "stderr",
          "text": [
            "<ipython-input-2-7d65b22cdf74>:30: UserWarning: Converting to PeriodArray/Index representation will drop timezone information.\n",
            "  monthly_avg = df.groupby(df['validdate'].dt.to_period('M'))['t_2m:C'].mean()\n"
          ]
        },
        {
          "output_type": "stream",
          "name": "stdout",
          "text": [
            "Bali - Monthly Average Temperatures (Rounded): [24.21, 24.69, 25.05, 24.65, 24.35, 24.61, 25.21]\n",
            "Fetching data for Banten...\n"
          ]
        },
        {
          "output_type": "stream",
          "name": "stderr",
          "text": [
            "<ipython-input-2-7d65b22cdf74>:30: UserWarning: Converting to PeriodArray/Index representation will drop timezone information.\n",
            "  monthly_avg = df.groupby(df['validdate'].dt.to_period('M'))['t_2m:C'].mean()\n"
          ]
        },
        {
          "output_type": "stream",
          "name": "stdout",
          "text": [
            "Banten - Monthly Average Temperatures (Rounded): [25.18, 25.01, 25.78, 25.23, 25.34, 25.65, 26.3]\n",
            "Fetching data for Bengkulu...\n"
          ]
        },
        {
          "output_type": "stream",
          "name": "stderr",
          "text": [
            "<ipython-input-2-7d65b22cdf74>:30: UserWarning: Converting to PeriodArray/Index representation will drop timezone information.\n",
            "  monthly_avg = df.groupby(df['validdate'].dt.to_period('M'))['t_2m:C'].mean()\n"
          ]
        },
        {
          "output_type": "stream",
          "name": "stdout",
          "text": [
            "Bengkulu - Monthly Average Temperatures (Rounded): [23.47, 24.4, 24.38, 24.26, 24.24, 24.67, 24.83]\n",
            "Fetching data for D.I. Yogyakarta...\n"
          ]
        },
        {
          "output_type": "stream",
          "name": "stderr",
          "text": [
            "<ipython-input-2-7d65b22cdf74>:30: UserWarning: Converting to PeriodArray/Index representation will drop timezone information.\n",
            "  monthly_avg = df.groupby(df['validdate'].dt.to_period('M'))['t_2m:C'].mean()\n"
          ]
        },
        {
          "output_type": "stream",
          "name": "stdout",
          "text": [
            "D.I. Yogyakarta - Monthly Average Temperatures (Rounded): [26.09, 25.63, 25.68, 25.5, 25.33, 25.66, 25.95]\n",
            "Fetching data for D.K.I. Jakarta...\n"
          ]
        },
        {
          "output_type": "stream",
          "name": "stderr",
          "text": [
            "<ipython-input-2-7d65b22cdf74>:30: UserWarning: Converting to PeriodArray/Index representation will drop timezone information.\n",
            "  monthly_avg = df.groupby(df['validdate'].dt.to_period('M'))['t_2m:C'].mean()\n"
          ]
        },
        {
          "output_type": "stream",
          "name": "stdout",
          "text": [
            "D.K.I. Jakarta - Monthly Average Temperatures (Rounded): [25.78, 25.74, 26.23, 25.75, 25.81, 26.02, 26.55]\n",
            "Fetching data for Gorontalo...\n"
          ]
        },
        {
          "output_type": "stream",
          "name": "stderr",
          "text": [
            "<ipython-input-2-7d65b22cdf74>:30: UserWarning: Converting to PeriodArray/Index representation will drop timezone information.\n",
            "  monthly_avg = df.groupby(df['validdate'].dt.to_period('M'))['t_2m:C'].mean()\n"
          ]
        },
        {
          "output_type": "stream",
          "name": "stdout",
          "text": [
            "Gorontalo - Monthly Average Temperatures (Rounded): [26.96, 27.35, 27.84, 27.08, 26.65, 26.97, 27.47]\n",
            "Fetching data for Jambi...\n"
          ]
        },
        {
          "output_type": "stream",
          "name": "stderr",
          "text": [
            "<ipython-input-2-7d65b22cdf74>:30: UserWarning: Converting to PeriodArray/Index representation will drop timezone information.\n",
            "  monthly_avg = df.groupby(df['validdate'].dt.to_period('M'))['t_2m:C'].mean()\n"
          ]
        },
        {
          "output_type": "stream",
          "name": "stdout",
          "text": [
            "Jambi - Monthly Average Temperatures (Rounded): [24.22, 24.26, 24.37, 23.64, 23.9, 24.34, 24.79]\n",
            "Fetching data for Jawa Barat...\n"
          ]
        },
        {
          "output_type": "stream",
          "name": "stderr",
          "text": [
            "<ipython-input-2-7d65b22cdf74>:30: UserWarning: Converting to PeriodArray/Index representation will drop timezone information.\n",
            "  monthly_avg = df.groupby(df['validdate'].dt.to_period('M'))['t_2m:C'].mean()\n"
          ]
        },
        {
          "output_type": "stream",
          "name": "stdout",
          "text": [
            "Jawa Barat - Monthly Average Temperatures (Rounded): [20.96, 19.99, 19.7, 19.58, 19.54, 19.54, 19.81]\n",
            "Fetching data for Jawa Tengah...\n"
          ]
        },
        {
          "output_type": "stream",
          "name": "stderr",
          "text": [
            "<ipython-input-2-7d65b22cdf74>:30: UserWarning: Converting to PeriodArray/Index representation will drop timezone information.\n",
            "  monthly_avg = df.groupby(df['validdate'].dt.to_period('M'))['t_2m:C'].mean()\n"
          ]
        },
        {
          "output_type": "stream",
          "name": "stdout",
          "text": [
            "Jawa Tengah - Monthly Average Temperatures (Rounded): [25.92, 24.85, 24.74, 24.65, 24.52, 24.57, 25.14]\n",
            "Fetching data for Jawa Timur...\n"
          ]
        },
        {
          "output_type": "stream",
          "name": "stderr",
          "text": [
            "<ipython-input-2-7d65b22cdf74>:30: UserWarning: Converting to PeriodArray/Index representation will drop timezone information.\n",
            "  monthly_avg = df.groupby(df['validdate'].dt.to_period('M'))['t_2m:C'].mean()\n"
          ]
        },
        {
          "output_type": "stream",
          "name": "stdout",
          "text": [
            "Jawa Timur - Monthly Average Temperatures (Rounded): [27.24, 26.07, 26.48, 25.31, 25.33, 25.37, 25.98]\n",
            "Fetching data for Kalimantan Barat...\n"
          ]
        },
        {
          "output_type": "stream",
          "name": "stderr",
          "text": [
            "<ipython-input-2-7d65b22cdf74>:30: UserWarning: Converting to PeriodArray/Index representation will drop timezone information.\n",
            "  monthly_avg = df.groupby(df['validdate'].dt.to_period('M'))['t_2m:C'].mean()\n"
          ]
        },
        {
          "output_type": "stream",
          "name": "stdout",
          "text": [
            "Kalimantan Barat - Monthly Average Temperatures (Rounded): [24.65, 24.8, 24.91, 24.59, 24.4, 24.63, 24.85]\n",
            "Fetching data for Kalimantan Selatan...\n"
          ]
        },
        {
          "output_type": "stream",
          "name": "stderr",
          "text": [
            "<ipython-input-2-7d65b22cdf74>:30: UserWarning: Converting to PeriodArray/Index representation will drop timezone information.\n",
            "  monthly_avg = df.groupby(df['validdate'].dt.to_period('M'))['t_2m:C'].mean()\n"
          ]
        },
        {
          "output_type": "stream",
          "name": "stdout",
          "text": [
            "Kalimantan Selatan - Monthly Average Temperatures (Rounded): [25.12, 23.94, 24.58, 24.03, 23.72, 23.95, 24.6]\n",
            "Fetching data for Kalimantan Tengah...\n"
          ]
        },
        {
          "output_type": "stream",
          "name": "stderr",
          "text": [
            "<ipython-input-2-7d65b22cdf74>:30: UserWarning: Converting to PeriodArray/Index representation will drop timezone information.\n",
            "  monthly_avg = df.groupby(df['validdate'].dt.to_period('M'))['t_2m:C'].mean()\n"
          ]
        },
        {
          "output_type": "stream",
          "name": "stdout",
          "text": [
            "Kalimantan Tengah - Monthly Average Temperatures (Rounded): [24.84, 24.77, 25.2, 24.73, 24.46, 24.72, 24.92]\n",
            "Fetching data for Kalimantan Timur...\n"
          ]
        },
        {
          "output_type": "stream",
          "name": "stderr",
          "text": [
            "<ipython-input-2-7d65b22cdf74>:30: UserWarning: Converting to PeriodArray/Index representation will drop timezone information.\n",
            "  monthly_avg = df.groupby(df['validdate'].dt.to_period('M'))['t_2m:C'].mean()\n"
          ]
        },
        {
          "output_type": "stream",
          "name": "stdout",
          "text": [
            "Kalimantan Timur - Monthly Average Temperatures (Rounded): [25.27, 25.02, 25.65, 24.87, 24.58, 25.03, 25.59]\n",
            "Fetching data for Kalimantan Utara...\n"
          ]
        },
        {
          "output_type": "stream",
          "name": "stderr",
          "text": [
            "<ipython-input-2-7d65b22cdf74>:30: UserWarning: Converting to PeriodArray/Index representation will drop timezone information.\n",
            "  monthly_avg = df.groupby(df['validdate'].dt.to_period('M'))['t_2m:C'].mean()\n"
          ]
        },
        {
          "output_type": "stream",
          "name": "stdout",
          "text": [
            "Kalimantan Utara - Monthly Average Temperatures (Rounded): [23.19, 22.91, 22.79, 22.25, 22.01, 22.33, 22.73]\n",
            "Fetching data for Kepulauan Bangka Belitung...\n"
          ]
        },
        {
          "output_type": "stream",
          "name": "stderr",
          "text": [
            "<ipython-input-2-7d65b22cdf74>:30: UserWarning: Converting to PeriodArray/Index representation will drop timezone information.\n",
            "  monthly_avg = df.groupby(df['validdate'].dt.to_period('M'))['t_2m:C'].mean()\n"
          ]
        },
        {
          "output_type": "stream",
          "name": "stdout",
          "text": [
            "Kepulauan Bangka Belitung - Monthly Average Temperatures (Rounded): [26.14, 25.98, 26.63, 25.87, 26.03, 26.61, 27.19]\n",
            "Fetching data for Kepulauan Riau...\n"
          ]
        },
        {
          "output_type": "stream",
          "name": "stderr",
          "text": [
            "<ipython-input-2-7d65b22cdf74>:30: UserWarning: Converting to PeriodArray/Index representation will drop timezone information.\n",
            "  monthly_avg = df.groupby(df['validdate'].dt.to_period('M'))['t_2m:C'].mean()\n"
          ]
        },
        {
          "output_type": "stream",
          "name": "stdout",
          "text": [
            "Kepulauan Riau - Monthly Average Temperatures (Rounded): [26.06, 26.41, 26.73, 25.77, 25.93, 26.78, 27.69]\n",
            "Fetching data for Lampung...\n"
          ]
        },
        {
          "output_type": "stream",
          "name": "stderr",
          "text": [
            "<ipython-input-2-7d65b22cdf74>:30: UserWarning: Converting to PeriodArray/Index representation will drop timezone information.\n",
            "  monthly_avg = df.groupby(df['validdate'].dt.to_period('M'))['t_2m:C'].mean()\n"
          ]
        },
        {
          "output_type": "stream",
          "name": "stdout",
          "text": [
            "Lampung - Monthly Average Temperatures (Rounded): [25.03, 24.57, 24.97, 24.42, 24.67, 25.01, 25.3]\n",
            "Fetching data for Maluku...\n"
          ]
        },
        {
          "output_type": "stream",
          "name": "stderr",
          "text": [
            "<ipython-input-2-7d65b22cdf74>:30: UserWarning: Converting to PeriodArray/Index representation will drop timezone information.\n",
            "  monthly_avg = df.groupby(df['validdate'].dt.to_period('M'))['t_2m:C'].mean()\n"
          ]
        },
        {
          "output_type": "stream",
          "name": "stdout",
          "text": [
            "Maluku - Monthly Average Temperatures (Rounded): [23.18, 23.42, 23.79, 23.55, 23.33, 23.27, 23.62]\n",
            "Fetching data for Maluku Utara...\n"
          ]
        },
        {
          "output_type": "stream",
          "name": "stderr",
          "text": [
            "<ipython-input-2-7d65b22cdf74>:30: UserWarning: Converting to PeriodArray/Index representation will drop timezone information.\n",
            "  monthly_avg = df.groupby(df['validdate'].dt.to_period('M'))['t_2m:C'].mean()\n"
          ]
        },
        {
          "output_type": "stream",
          "name": "stdout",
          "text": [
            "Maluku Utara - Monthly Average Temperatures (Rounded): [26.42, 26.18, 26.54, 26.03, 25.78, 26.16, 26.3]\n",
            "Fetching data for Nusa Tenggara Barat...\n"
          ]
        },
        {
          "output_type": "stream",
          "name": "stderr",
          "text": [
            "<ipython-input-2-7d65b22cdf74>:30: UserWarning: Converting to PeriodArray/Index representation will drop timezone information.\n",
            "  monthly_avg = df.groupby(df['validdate'].dt.to_period('M'))['t_2m:C'].mean()\n"
          ]
        },
        {
          "output_type": "stream",
          "name": "stdout",
          "text": [
            "Nusa Tenggara Barat - Monthly Average Temperatures (Rounded): [25.94, 25.56, 25.15, 24.68, 24.44, 24.79, 25.33]\n",
            "Fetching data for Nusa Tenggara Timur...\n"
          ]
        },
        {
          "output_type": "stream",
          "name": "stderr",
          "text": [
            "<ipython-input-2-7d65b22cdf74>:30: UserWarning: Converting to PeriodArray/Index representation will drop timezone information.\n",
            "  monthly_avg = df.groupby(df['validdate'].dt.to_period('M'))['t_2m:C'].mean()\n"
          ]
        },
        {
          "output_type": "stream",
          "name": "stdout",
          "text": [
            "Nusa Tenggara Timur - Monthly Average Temperatures (Rounded): [28.23, 26.77, 26.45, 25.83, 25.58, 25.65, 26.27]\n",
            "Fetching data for Papua...\n"
          ]
        },
        {
          "output_type": "stream",
          "name": "stderr",
          "text": [
            "<ipython-input-2-7d65b22cdf74>:30: UserWarning: Converting to PeriodArray/Index representation will drop timezone information.\n",
            "  monthly_avg = df.groupby(df['validdate'].dt.to_period('M'))['t_2m:C'].mean()\n"
          ]
        },
        {
          "output_type": "stream",
          "name": "stdout",
          "text": [
            "Papua - Monthly Average Temperatures (Rounded): [21.56, 22.15, 21.91, 21.11, 21.14, 21.3, 21.18]\n",
            "Fetching data for Papua Barat...\n"
          ]
        },
        {
          "output_type": "stream",
          "name": "stderr",
          "text": [
            "<ipython-input-2-7d65b22cdf74>:30: UserWarning: Converting to PeriodArray/Index representation will drop timezone information.\n",
            "  monthly_avg = df.groupby(df['validdate'].dt.to_period('M'))['t_2m:C'].mean()\n"
          ]
        },
        {
          "output_type": "stream",
          "name": "stdout",
          "text": [
            "Papua Barat - Monthly Average Temperatures (Rounded): [23.32, 23.57, 23.65, 22.78, 22.5, 22.64, 22.73]\n",
            "Fetching data for Riau...\n"
          ]
        },
        {
          "output_type": "stream",
          "name": "stderr",
          "text": [
            "<ipython-input-2-7d65b22cdf74>:30: UserWarning: Converting to PeriodArray/Index representation will drop timezone information.\n",
            "  monthly_avg = df.groupby(df['validdate'].dt.to_period('M'))['t_2m:C'].mean()\n"
          ]
        },
        {
          "output_type": "stream",
          "name": "stdout",
          "text": [
            "Riau - Monthly Average Temperatures (Rounded): [24.12, 24.12, 24.01, 23.22, 23.35, 24.1, 24.53]\n",
            "Fetching data for Sulawesi Barat...\n"
          ]
        },
        {
          "output_type": "stream",
          "name": "stderr",
          "text": [
            "<ipython-input-2-7d65b22cdf74>:30: UserWarning: Converting to PeriodArray/Index representation will drop timezone information.\n",
            "  monthly_avg = df.groupby(df['validdate'].dt.to_period('M'))['t_2m:C'].mean()\n"
          ]
        },
        {
          "output_type": "stream",
          "name": "stdout",
          "text": [
            "Sulawesi Barat - Monthly Average Temperatures (Rounded): [18.49, 17.06, 17.2, 16.81, 16.53, 16.95, 17.36]\n",
            "Fetching data for Sulawesi Selatan...\n"
          ]
        },
        {
          "output_type": "stream",
          "name": "stderr",
          "text": [
            "<ipython-input-2-7d65b22cdf74>:30: UserWarning: Converting to PeriodArray/Index representation will drop timezone information.\n",
            "  monthly_avg = df.groupby(df['validdate'].dt.to_period('M'))['t_2m:C'].mean()\n"
          ]
        },
        {
          "output_type": "stream",
          "name": "stdout",
          "text": [
            "Sulawesi Selatan - Monthly Average Temperatures (Rounded): [27.03, 26.4, 26.57, 26.0, 25.98, 25.84, 26.23]\n",
            "Fetching data for Sulawesi Tengah...\n"
          ]
        },
        {
          "output_type": "stream",
          "name": "stderr",
          "text": [
            "<ipython-input-2-7d65b22cdf74>:30: UserWarning: Converting to PeriodArray/Index representation will drop timezone information.\n",
            "  monthly_avg = df.groupby(df['validdate'].dt.to_period('M'))['t_2m:C'].mean()\n"
          ]
        },
        {
          "output_type": "stream",
          "name": "stdout",
          "text": [
            "Sulawesi Tengah - Monthly Average Temperatures (Rounded): [18.48, 16.59, 16.87, 16.32, 15.98, 16.21, 16.48]\n",
            "Fetching data for Sulawesi Tenggara...\n"
          ]
        },
        {
          "output_type": "stream",
          "name": "stderr",
          "text": [
            "<ipython-input-2-7d65b22cdf74>:30: UserWarning: Converting to PeriodArray/Index representation will drop timezone information.\n",
            "  monthly_avg = df.groupby(df['validdate'].dt.to_period('M'))['t_2m:C'].mean()\n"
          ]
        },
        {
          "output_type": "stream",
          "name": "stdout",
          "text": [
            "Sulawesi Tenggara - Monthly Average Temperatures (Rounded): [27.24, 27.25, 27.82, 27.13, 26.98, 26.6, 27.21]\n",
            "Fetching data for Sulawesi Utara...\n"
          ]
        },
        {
          "output_type": "stream",
          "name": "stderr",
          "text": [
            "<ipython-input-2-7d65b22cdf74>:30: UserWarning: Converting to PeriodArray/Index representation will drop timezone information.\n",
            "  monthly_avg = df.groupby(df['validdate'].dt.to_period('M'))['t_2m:C'].mean()\n"
          ]
        },
        {
          "output_type": "stream",
          "name": "stdout",
          "text": [
            "Sulawesi Utara - Monthly Average Temperatures (Rounded): [24.66, 24.48, 25.06, 24.25, 23.76, 24.25, 24.42]\n",
            "Fetching data for Sumatera Barat...\n"
          ]
        },
        {
          "output_type": "stream",
          "name": "stderr",
          "text": [
            "<ipython-input-2-7d65b22cdf74>:30: UserWarning: Converting to PeriodArray/Index representation will drop timezone information.\n",
            "  monthly_avg = df.groupby(df['validdate'].dt.to_period('M'))['t_2m:C'].mean()\n"
          ]
        },
        {
          "output_type": "stream",
          "name": "stdout",
          "text": [
            "Sumatera Barat - Monthly Average Temperatures (Rounded): [22.12, 22.76, 22.54, 22.21, 22.32, 22.79, 23.04]\n",
            "Fetching data for Sumatera Selatan...\n"
          ]
        },
        {
          "output_type": "stream",
          "name": "stderr",
          "text": [
            "<ipython-input-2-7d65b22cdf74>:30: UserWarning: Converting to PeriodArray/Index representation will drop timezone information.\n",
            "  monthly_avg = df.groupby(df['validdate'].dt.to_period('M'))['t_2m:C'].mean()\n"
          ]
        },
        {
          "output_type": "stream",
          "name": "stdout",
          "text": [
            "Sumatera Selatan - Monthly Average Temperatures (Rounded): [24.46, 24.22, 24.33, 23.72, 23.92, 24.3, 24.73]\n",
            "Fetching data for Sumatera Utara...\n",
            "Sumatera Utara - Monthly Average Temperatures (Rounded): [15.82, 14.41, 14.29, 13.85, 13.93, 14.42, 14.93]\n"
          ]
        },
        {
          "output_type": "stream",
          "name": "stderr",
          "text": [
            "<ipython-input-2-7d65b22cdf74>:30: UserWarning: Converting to PeriodArray/Index representation will drop timezone information.\n",
            "  monthly_avg = df.groupby(df['validdate'].dt.to_period('M'))['t_2m:C'].mean()\n"
          ]
        }
      ]
    }
  ]
}